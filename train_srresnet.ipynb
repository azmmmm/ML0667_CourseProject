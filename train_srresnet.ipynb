{
 "cells": [
  {
   "cell_type": "code",
   "execution_count": 3,
   "metadata": {},
   "outputs": [],
   "source": [
    "from lib.utils import *\n",
    "import torch.backends.cudnn as cudnn\n",
    "import torch\n",
    "from torch import nn\n",
    "from torchvision.utils import make_grid\n",
    "from torch.utils.tensorboard import SummaryWriter\n",
    "from lib.models import SRResNet\n",
    "from lib.dataloaders import SRDataset\n",
    "from skimage.metrics import peak_signal_noise_ratio, structural_similarity\n",
    "import time\n",
    "from PIL import Image"
   ]
  },
  {
   "cell_type": "code",
   "execution_count": 4,
   "metadata": {},
   "outputs": [
    {
     "name": "stdout",
     "output_type": "stream",
     "text": [
      "\n",
      "正在创建文件列表... 请耐心等待.\n",
      "\n",
      "训练集中共有 123285 张图像\n",
      "\n",
      "在测试集 BSD100 中共有 100 张图像\n",
      "\n",
      "在测试集 Set5 中共有 5 张图像\n",
      "\n",
      "在测试集 Set14 中共有 14 张图像\n",
      "\n",
      "生成完毕。训练集和测试集文件列表已保存在 ./data/ 下\n",
      "\n"
     ]
    }
   ],
   "source": [
    "create_data_lists(train_folders=['./data/COCO2014/train2014',\n",
    "                                     './data/COCO2014/val2014'],\n",
    "                      test_folders=['./data/BSD100',\n",
    "                                    './data/Set5',\n",
    "                                    './data/Set14'],\n",
    "                      min_size=100,\n",
    "                      output_folder='./data/')"
   ]
  },
  {
   "cell_type": "code",
   "execution_count": 2,
   "metadata": {},
   "outputs": [],
   "source": [
    "# 数据集参数\n",
    "data_folder = './data/'          # 数据存放路径\n",
    "crop_size = 96      # 高分辨率图像裁剪尺寸\n",
    "scaling_factor = 4  # 放大比例\n",
    "\n",
    "# 模型参数\n",
    "large_kernel_size = 9   # 第一层卷积和最后一层卷积的核大小\n",
    "small_kernel_size = 3   # 中间层卷积的核大小\n",
    "n_channels = 64         # 中间层通道数\n",
    "n_blocks = 16           # 残差模块数量\n",
    "\n",
    "# 学习参数\n",
    "checkpoint = None   # 预训练模型路径，如果不存在则为None\n",
    "batch_size = 96    # 批大小 win11 4G显存下 batch_size=96  GPU_memory=3.7/4.0GB\n",
    "start_epoch = 1     # 轮数起始位置\n",
    "epochs = 20        # 迭代轮数\n",
    "workers = 4         # 工作线程数\n",
    "lr = 1e-4           # 学习率\n",
    "\n",
    "# 设备参数\n",
    "device = torch.device(\"cuda\" if torch.cuda.is_available() else \"cpu\")\n",
    "ngpu = 1           # 用来运行的gpu数量\n",
    "\n",
    "cudnn.benchmark = True # 对卷积进行加速"
   ]
  },
  {
   "cell_type": "code",
   "execution_count": 8,
   "metadata": {},
   "outputs": [],
   "source": [
    "def train(writer,model_name):\n",
    "    \n",
    "    global checkpoint,start_epoch\n",
    "\n",
    "    # 初始化\n",
    "    model = SRResNet(large_kernel_size=large_kernel_size,\n",
    "                        small_kernel_size=small_kernel_size,\n",
    "                        n_channels=n_channels,\n",
    "                        n_blocks=n_blocks,\n",
    "                        scaling_factor=scaling_factor)\n",
    "    # 初始化优化器\n",
    "    optimizer = torch.optim.Adam(params=filter(lambda p: p.requires_grad, model.parameters()),lr=lr)\n",
    "\n",
    "    # 迁移至默认设备进行训练\n",
    "    model = model.to(device)\n",
    "    criterion = nn.MSELoss().to(device)\n",
    "\n",
    "    # 加载预训练模型\n",
    "    if checkpoint is not None:\n",
    "        checkpoint = torch.load(checkpoint)\n",
    "        start_epoch = checkpoint['epoch'] + 1\n",
    "        model.load_state_dict(checkpoint['model'])\n",
    "        optimizer.load_state_dict(checkpoint['optimizer'])\n",
    "    \n",
    "    if torch.cuda.is_available() and ngpu > 1:\n",
    "        model = nn.DataParallel(model, device_ids=list(range(ngpu)))\n",
    "\n",
    "    # 定制化的dataloaders\n",
    "    train_dataset = SRDataset(data_folder,split='train',\n",
    "                              crop_size=crop_size,\n",
    "                              scaling_factor=scaling_factor,\n",
    "                              lr_img_type='imagenet-norm',\n",
    "                              hr_img_type='[-1, 1]')\n",
    "    train_loader = torch.utils.data.DataLoader(train_dataset,\n",
    "        batch_size=batch_size,\n",
    "        shuffle=True,\n",
    "        num_workers=workers,\n",
    "        pin_memory=True) \n",
    "\n",
    "    # 开始逐轮训练\n",
    "    for epoch in range(start_epoch, epochs+1):\n",
    "\n",
    "        model.train() \n",
    "\n",
    "        loss_epoch = AverageMeter()  # 统计损失函数\n",
    "\n",
    "        n_iter = len(train_loader)\n",
    "\n",
    "        # 按批处理\n",
    "        for i, (lr_imgs, hr_imgs) in enumerate(train_loader):\n",
    "\n",
    "            # 数据移至默认设备进行训练\n",
    "            lr_imgs = lr_imgs.to(device)  # (batch_size (N), 3, 24, 24), imagenet-normed 格式\n",
    "            hr_imgs = hr_imgs.to(device)  # (batch_size (N), 3, 96, 96),  [-1, 1]格式\n",
    "\n",
    "            # 前向传播\n",
    "            sr_imgs = model(lr_imgs)\n",
    "\n",
    "            # 计算损失\n",
    "            loss = criterion(sr_imgs, hr_imgs)  \n",
    "\n",
    "            # 后向传播\n",
    "            optimizer.zero_grad()\n",
    "            loss.backward()\n",
    "\n",
    "            # 更新模型\n",
    "            optimizer.step()\n",
    "\n",
    "            # 记录损失值\n",
    "            loss_epoch.update(loss.item(), lr_imgs.size(0))\n",
    "\n",
    "            # 监控图像变化\n",
    "            if i==(n_iter-2):\n",
    "                writer.add_image('SRResNet/epoch_'+str(epoch)+'_1', make_grid(lr_imgs[:4,:3,:,:].cpu(), nrow=4, normalize=True),epoch)\n",
    "                writer.add_image('SRResNet/epoch_'+str(epoch)+'_2', make_grid(sr_imgs[:4,:3,:,:].cpu(), nrow=4, normalize=True),epoch)\n",
    "                writer.add_image('SRResNet/epoch_'+str(epoch)+'_3', make_grid(hr_imgs[:4,:3,:,:].cpu(), nrow=4, normalize=True),epoch)\n",
    "\n",
    "            # 打印结果\n",
    "            print(\"第\"+str(epoch)+\"/\"+str(epochs)+\"个epoch,第\"+str(i)+\"/\"+str(len(train_loader))+\" 个batch训练结束    \",end='\\r')\n",
    " \n",
    "        # 手动释放内存              \n",
    "        del lr_imgs, hr_imgs, sr_imgs\n",
    "\n",
    "        # 监控损失值变化\n",
    "        writer.add_scalar('SRResNet/MSE_Loss', loss_epoch.val, epoch)    \n",
    "\n",
    "        # 保存预训练模型\n",
    "        torch.save({\n",
    "            'epoch': epoch,\n",
    "            'model': model.state_dict(),\n",
    "            'optimizer': optimizer.state_dict()\n",
    "        }, 'results/'+model_name)\n",
    "    \n",
    "    # 训练结束关闭监控\n",
    "    writer.close()"
   ]
  },
  {
   "cell_type": "code",
   "execution_count": null,
   "metadata": {},
   "outputs": [],
   "source": [
    "writer = SummaryWriter() # 实时监控     使用命令 tensorboard --logdir runs  进行查看\n",
    "model_name='srresnet.pth'\n",
    "train(writer,model_name)"
   ]
  },
  {
   "cell_type": "code",
   "execution_count": 1,
   "metadata": {},
   "outputs": [],
   "source": [
    "# 双线性上采样\n",
    "def Bicubic(imgDir,input,output):\n",
    "        # 加载图像\n",
    "    img = Image.open(imgDir+input, mode='r')\n",
    "    img = img.convert('RGB')\n",
    " \n",
    "    Bicubic_img = img.resize((int(img.width * scaling_factor),int(img.height * scaling_factor)),Image.BICUBIC)\n",
    "    Bicubic_img.save(imgDir+output)\n",
    "\n",
    "#超分处理\n",
    "def super_revolution(model,imgDir,input,output):\n",
    "    # 加载模型SRResNet 或 SRGAN\n",
    "    checkpoint = torch.load(model)\n",
    "    srresnet = SRResNet(large_kernel_size=large_kernel_size,\n",
    "                        small_kernel_size=small_kernel_size,\n",
    "                        n_channels=n_channels,\n",
    "                        n_blocks=n_blocks,\n",
    "                        scaling_factor=scaling_factor)\n",
    "    srresnet = srresnet.to(device)\n",
    "    srresnet.load_state_dict(checkpoint['model'])\n",
    "   \n",
    "    srresnet.eval()\n",
    "    model = srresnet\n",
    " \n",
    "    # 加载图像\n",
    "    img = Image.open(imgDir+input, mode='r')\n",
    "    img = img.convert('RGB')\n",
    " \n",
    "    # 图像预处理\n",
    "    lr_img = convert_image(img, source='pil', target='imagenet-norm')\n",
    "    lr_img.unsqueeze_(0)\n",
    " \n",
    "    # 记录时间\n",
    "    start = time.time()\n",
    " \n",
    "    # 转移数据至设备\n",
    "    lr_img = lr_img.to(device)  # (1, 3, w, h ), imagenet-normed\n",
    " \n",
    "    # 模型推理\n",
    "    with torch.no_grad():\n",
    "        sr_img = model(lr_img).squeeze(0).cpu().detach()  # (1, 3, w*scale, h*scale), in [-1, 1]   \n",
    "        sr_img = convert_image(sr_img, source='[-1, 1]', target='pil')\n",
    "        sr_img.save(imgDir+output)\n",
    " \n",
    "    print(output+'用时  {:.3f} 秒'.format(time.time()-start))\n",
    " "
   ]
  },
  {
   "cell_type": "code",
   "execution_count": 2,
   "metadata": {},
   "outputs": [
    {
     "ename": "NameError",
     "evalue": "name 'Image' is not defined",
     "output_type": "error",
     "traceback": [
      "\u001b[0;31m---------------------------------------------------------------------------\u001b[0m",
      "\u001b[0;31mNameError\u001b[0m                                 Traceback (most recent call last)",
      "\u001b[0;32m/tmp/ipykernel_1290/1853427906.py\u001b[0m in \u001b[0;36m<module>\u001b[0;34m\u001b[0m\n\u001b[1;32m      1\u001b[0m \u001b[0mmodel\u001b[0m \u001b[0;34m=\u001b[0m \u001b[0;34m\"./results/srresnet.pth\"\u001b[0m\u001b[0;34m\u001b[0m\u001b[0;34m\u001b[0m\u001b[0m\n\u001b[1;32m      2\u001b[0m \u001b[0mimgDir\u001b[0m\u001b[0;34m=\u001b[0m\u001b[0;34m'./results/'\u001b[0m\u001b[0;34m\u001b[0m\u001b[0;34m\u001b[0m\u001b[0m\n\u001b[0;32m----> 3\u001b[0;31m \u001b[0mBicubic\u001b[0m\u001b[0;34m(\u001b[0m\u001b[0mimgDir\u001b[0m\u001b[0;34m=\u001b[0m\u001b[0mimgDir\u001b[0m\u001b[0;34m,\u001b[0m\u001b[0minput\u001b[0m\u001b[0;34m=\u001b[0m\u001b[0;34m'butterfly_GT.bmp'\u001b[0m\u001b[0;34m,\u001b[0m\u001b[0moutput\u001b[0m\u001b[0;34m=\u001b[0m\u001b[0;34m'butterfly_x4_bicubic.jpg'\u001b[0m\u001b[0;34m)\u001b[0m\u001b[0;34m\u001b[0m\u001b[0;34m\u001b[0m\u001b[0m\n\u001b[0m\u001b[1;32m      4\u001b[0m \u001b[0mBicubic\u001b[0m\u001b[0;34m(\u001b[0m\u001b[0mimgDir\u001b[0m\u001b[0;34m=\u001b[0m\u001b[0mimgDir\u001b[0m\u001b[0;34m,\u001b[0m\u001b[0minput\u001b[0m\u001b[0;34m=\u001b[0m\u001b[0;34m'butterfly_x4_bicubic.jpg'\u001b[0m\u001b[0;34m,\u001b[0m\u001b[0moutput\u001b[0m\u001b[0;34m=\u001b[0m\u001b[0;34m'butterfly_x16_bicubic.jpg'\u001b[0m\u001b[0;34m)\u001b[0m\u001b[0;34m\u001b[0m\u001b[0;34m\u001b[0m\u001b[0m\n",
      "\u001b[0;32m/tmp/ipykernel_1290/3771342453.py\u001b[0m in \u001b[0;36mBicubic\u001b[0;34m(imgDir, input, output)\u001b[0m\n\u001b[1;32m      2\u001b[0m \u001b[0;32mdef\u001b[0m \u001b[0mBicubic\u001b[0m\u001b[0;34m(\u001b[0m\u001b[0mimgDir\u001b[0m\u001b[0;34m,\u001b[0m\u001b[0minput\u001b[0m\u001b[0;34m,\u001b[0m\u001b[0moutput\u001b[0m\u001b[0;34m)\u001b[0m\u001b[0;34m:\u001b[0m\u001b[0;34m\u001b[0m\u001b[0;34m\u001b[0m\u001b[0m\n\u001b[1;32m      3\u001b[0m         \u001b[0;31m# 加载图像\u001b[0m\u001b[0;34m\u001b[0m\u001b[0;34m\u001b[0m\u001b[0;34m\u001b[0m\u001b[0m\n\u001b[0;32m----> 4\u001b[0;31m     \u001b[0mimg\u001b[0m \u001b[0;34m=\u001b[0m \u001b[0mImage\u001b[0m\u001b[0;34m.\u001b[0m\u001b[0mopen\u001b[0m\u001b[0;34m(\u001b[0m\u001b[0mimgDir\u001b[0m\u001b[0;34m+\u001b[0m\u001b[0minput\u001b[0m\u001b[0;34m,\u001b[0m \u001b[0mmode\u001b[0m\u001b[0;34m=\u001b[0m\u001b[0;34m'r'\u001b[0m\u001b[0;34m)\u001b[0m\u001b[0;34m\u001b[0m\u001b[0;34m\u001b[0m\u001b[0m\n\u001b[0m\u001b[1;32m      5\u001b[0m     \u001b[0mimg\u001b[0m \u001b[0;34m=\u001b[0m \u001b[0mimg\u001b[0m\u001b[0;34m.\u001b[0m\u001b[0mconvert\u001b[0m\u001b[0;34m(\u001b[0m\u001b[0;34m'RGB'\u001b[0m\u001b[0;34m)\u001b[0m\u001b[0;34m\u001b[0m\u001b[0;34m\u001b[0m\u001b[0m\n\u001b[1;32m      6\u001b[0m \u001b[0;34m\u001b[0m\u001b[0m\n",
      "\u001b[0;31mNameError\u001b[0m: name 'Image' is not defined"
     ]
    }
   ],
   "source": [
    "model = \"./results/srresnet.pth\"\n",
    "imgDir='./results/'\n",
    "Bicubic(imgDir=imgDir,input='butterfly_GT.bmp',output='butterfly_x4_bicubic.jpg')\n",
    "Bicubic(imgDir=imgDir,input='butterfly_x4_bicubic.jpg',output='butterfly_x16_bicubic.jpg')"
   ]
  },
  {
   "cell_type": "code",
   "execution_count": 6,
   "metadata": {},
   "outputs": [
    {
     "name": "stdout",
     "output_type": "stream",
     "text": [
      "butterfly_x4_sr.jpg用时  2.702 秒\n"
     ]
    }
   ],
   "source": [
    "super_revolution(model,imgDir=imgDir,input='butterfly_GT.bmp',output='butterfly_x4_sr.jpg')"
   ]
  },
  {
   "cell_type": "code",
   "execution_count": 8,
   "metadata": {},
   "outputs": [
    {
     "name": "stdout",
     "output_type": "stream",
     "text": [
      "butterfly_x16_sr.jpg用时  168.429 秒\n"
     ]
    }
   ],
   "source": [
    "#显存不够用了\n",
    "device = torch.device(\"cpu\")\n",
    "super_revolution(model,imgDir=imgDir,input='butterfly_x4_sr.jpg',output='butterfly_x16_sr.jpg')"
   ]
  }
 ],
 "metadata": {
  "interpreter": {
   "hash": "916dbcbb3f70747c44a77c7bcd40155683ae19c65e1c03b4aa3499c5328201f1"
  },
  "kernelspec": {
   "display_name": "Python 3.8.10 64-bit",
   "language": "python",
   "name": "python3"
  },
  "language_info": {
   "codemirror_mode": {
    "name": "ipython",
    "version": 3
   },
   "file_extension": ".py",
   "mimetype": "text/x-python",
   "name": "python",
   "nbconvert_exporter": "python",
   "pygments_lexer": "ipython3",
   "version": "3.8.10"
  },
  "orig_nbformat": 4
 },
 "nbformat": 4,
 "nbformat_minor": 2
}
