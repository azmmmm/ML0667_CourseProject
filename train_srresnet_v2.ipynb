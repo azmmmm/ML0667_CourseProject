{
 "cells": [
  {
   "cell_type": "code",
   "execution_count": 1,
   "metadata": {},
   "outputs": [],
   "source": [
    "from lib.utils import *\n",
    "import torch.backends.cudnn as cudnn\n",
    "import torch\n",
    "from torch import nn\n",
    "from torchvision.utils import make_grid\n",
    "from torch.utils.tensorboard import SummaryWriter\n",
    "from lib.models import SRResNet\n",
    "from lib.dataloaders import SRDataset_v2\n",
    "from skimage.metrics import peak_signal_noise_ratio, structural_similarity\n",
    "import time\n",
    "from PIL import Image\n",
    "from PIL.Image import effect_noise"
   ]
  },
  {
   "cell_type": "code",
   "execution_count": 2,
   "metadata": {},
   "outputs": [],
   "source": [
    "# 数据集参数\n",
    "data_folder = './data/'          # 数据存放路径\n",
    "crop_size = 96      # 高分辨率图像裁剪尺寸\n",
    "scaling_factor = 4  # 放大比例\n",
    "\n",
    "#预处理参数\n",
    "gasuss_noise_sigma=0.001 #高斯模糊标准差， 0.01表示像素点在 1%范围内波动\n",
    "\n",
    "# 模型参数\n",
    "large_kernel_size = 9   # 第一层卷积和最后一层卷积的核大小\n",
    "small_kernel_size = 3   # 中间层卷积的核大小\n",
    "n_channels = 64         # 中间层通道数\n",
    "n_blocks = 16           # 残差模块数量\n",
    "\n",
    "# 学习参数\n",
    "checkpoint = None   # 预训练模型路径，如果不存在则为None\n",
    "batch_size = 96    # 批大小 win11 4G显存下 batch_size=96  GPU_memory=3.7/4.0GB\n",
    "start_epoch = 1     # 轮数起始位置\n",
    "epochs = 130        # 迭代轮数\n",
    "workers = 4         # 工作线程数\n",
    "lr = 1e-4           # 学习率\n",
    "\n",
    "#sample\n",
    "is_sample=False\n",
    "sample_batchs=1000//batch_size\n",
    "\n",
    "# 设备参数\n",
    "device = torch.device(\"cuda\" if torch.cuda.is_available() else \"cpu\")\n",
    "ngpu = 1           # 用来运行的gpu数量\n",
    "\n",
    "cudnn.benchmark = True # 对卷积进行加速"
   ]
  },
  {
   "cell_type": "code",
   "execution_count": 3,
   "metadata": {},
   "outputs": [],
   "source": [
    "def train(writer,model_name):\n",
    "    \n",
    "    global checkpoint,start_epoch\n",
    "\n",
    "    # 初始化\n",
    "    model = SRResNet(large_kernel_size=large_kernel_size,\n",
    "                        small_kernel_size=small_kernel_size,\n",
    "                        n_channels=n_channels,\n",
    "                        n_blocks=n_blocks,\n",
    "                        scaling_factor=scaling_factor)\n",
    "    # 初始化优化器\n",
    "    optimizer = torch.optim.Adam(params=filter(lambda p: p.requires_grad, model.parameters()),lr=lr)\n",
    "\n",
    "    # 迁移至默认设备进行训练\n",
    "    model = model.to(device)\n",
    "    criterion = nn.MSELoss().to(device)\n",
    "\n",
    "    # 加载预训练模型\n",
    "    if checkpoint is not None:\n",
    "        checkpoint = torch.load(checkpoint)\n",
    "        start_epoch = checkpoint['epoch'] + 1\n",
    "        model.load_state_dict(checkpoint['model'])\n",
    "        optimizer.load_state_dict(checkpoint['optimizer'])\n",
    "    \n",
    "    if torch.cuda.is_available() and ngpu > 1:\n",
    "        model = nn.DataParallel(model, device_ids=list(range(ngpu)))\n",
    "\n",
    "    # 定制化的dataloaders\n",
    "    train_dataset = SRDataset_v2(data_folder,split='train',\n",
    "                              crop_size=crop_size,\n",
    "                              scaling_factor=scaling_factor,\n",
    "                              lr_img_type='imagenet-norm',\n",
    "                              hr_img_type='[-1, 1]',\n",
    "                              gasuss_noise_sigma=gasuss_noise_sigma)\n",
    "    train_loader = torch.utils.data.DataLoader(train_dataset,\n",
    "        batch_size=batch_size,\n",
    "        shuffle=True,\n",
    "        num_workers=workers,\n",
    "        pin_memory=True) \n",
    "\n",
    "    # 开始逐轮训练\n",
    "    for epoch in range(start_epoch, epochs+1):\n",
    "\n",
    "        model.train() \n",
    "\n",
    "        loss_epoch = AverageMeter()  # 统计损失函数\n",
    "\n",
    "        n_iter = len(train_loader)\n",
    "\n",
    "        # 按批处理\n",
    "        for i, (lr_imgs, hr_imgs) in enumerate(train_loader):\n",
    "\n",
    "            # 数据移至默认设备进行训练\n",
    "            lr_imgs = lr_imgs.to(device)  # (batch_size (N), 3, 24, 24), imagenet-normed 格式\n",
    "            hr_imgs = hr_imgs.to(device)  # (batch_size (N), 3, 96, 96),  [-1, 1]格式\n",
    "\n",
    "            # 前向传播\n",
    "            sr_imgs = model(lr_imgs)\n",
    "\n",
    "            # 计算损失\n",
    "            loss = criterion(sr_imgs, hr_imgs)  \n",
    "\n",
    "            # 后向传播\n",
    "            optimizer.zero_grad()\n",
    "            loss.backward()\n",
    "\n",
    "            # 更新模型\n",
    "            optimizer.step()\n",
    "\n",
    "            # 记录损失值\n",
    "            loss_epoch.update(loss.item(), lr_imgs.size(0))\n",
    "\n",
    "            # 监控图像变化\n",
    "            if (is_sample and i==sample_batchs-2) or (i==(n_iter-2)):\n",
    "                writer.add_image('SRGAN/epoch_'+str(epoch)+'_1_lr', make_grid(lr_imgs[:4,:3,:,:].cpu(), nrow=4, normalize=True),epoch)\n",
    "                writer.add_image('SRGAN/epoch_'+str(epoch)+'_2_sr', make_grid(sr_imgs[:4,:3,:,:].cpu(), nrow=4, normalize=True),epoch)\n",
    "                writer.add_image('SRGAN/epoch_'+str(epoch)+'_3_hr', make_grid(hr_imgs[:4,:3,:,:].cpu(), nrow=4, normalize=True),epoch)\n",
    "\n",
    "            # 打印结果\n",
    "            print(\"第\"+str(epoch)+\"/\"+str(epochs)+\"个epoch,第\"+str(i)+\"/\"+str(sample_batchs if is_sample else len(train_loader))+\" 个batch训练结束    \",end='\\r')\n",
    "\n",
    "            \n",
    "\n",
    "            #sample\n",
    "            if(is_sample and i>= sample_batchs):\n",
    "                break\n",
    "\n",
    " \n",
    "        # 手动释放内存              \n",
    "        del lr_imgs, hr_imgs, sr_imgs\n",
    "\n",
    "        # 监控损失值变化\n",
    "        writer.add_scalar('SRResNet/MSE_Loss', loss_epoch.val, epoch)    \n",
    "\n",
    "        # 保存预训练模型\n",
    "        torch.save({\n",
    "            'epoch': epoch,\n",
    "            'model': model.state_dict(),\n",
    "            'optimizer': optimizer.state_dict()\n",
    "        }, 'results/'+model_name)\n",
    "    \n",
    "    # 训练结束关闭监控\n",
    "    writer.close()"
   ]
  },
  {
   "cell_type": "code",
   "execution_count": 4,
   "metadata": {},
   "outputs": [
    {
     "data": {
      "text/plain": [
       "'\\nwriter = SummaryWriter(filename_suffix=\"_srresnet_v2_sample\") # 实时监控     使用命令 tensorboard --logdir runs  进行查看\\nepochs=100\\nis_sample=True\\nmodel_name=\\'srresnet_v2_sample.pth\\'\\ntrain(writer,model_name)\\nwriter.close()\\n'"
      ]
     },
     "execution_count": 4,
     "metadata": {},
     "output_type": "execute_result"
    }
   ],
   "source": [
    "'''\n",
    "writer = SummaryWriter(filename_suffix=\"_srresnet_v2_sample\") # 实时监控     使用命令 tensorboard --logdir runs  进行查看\n",
    "epochs=100\n",
    "is_sample=True\n",
    "model_name='srresnet_v2_sample.pth'\n",
    "train(writer,model_name)\n",
    "writer.close()\n",
    "'''"
   ]
  },
  {
   "cell_type": "code",
   "execution_count": 5,
   "metadata": {},
   "outputs": [
    {
     "name": "stdout",
     "output_type": "stream",
     "text": [
      "第20/20个epoch,第1284/1285 个batch训练结束    \r"
     ]
    }
   ],
   "source": [
    "writer = SummaryWriter(filename_suffix=\"_srresnet_v2\") # 实时监控     使用命令 tensorboard --logdir runs  进行查看\n",
    "epochs=20\n",
    "is_sample=False\n",
    "model_name='srresnet_v2.pth'\n",
    "train(writer,model_name)\n",
    "writer.close()"
   ]
  }
 ],
 "metadata": {
  "interpreter": {
   "hash": "916dbcbb3f70747c44a77c7bcd40155683ae19c65e1c03b4aa3499c5328201f1"
  },
  "kernelspec": {
   "display_name": "Python 3.8.10 64-bit",
   "language": "python",
   "name": "python3"
  },
  "language_info": {
   "codemirror_mode": {
    "name": "ipython",
    "version": 3
   },
   "file_extension": ".py",
   "mimetype": "text/x-python",
   "name": "python",
   "nbconvert_exporter": "python",
   "pygments_lexer": "ipython3",
   "version": "3.8.10"
  },
  "orig_nbformat": 4
 },
 "nbformat": 4,
 "nbformat_minor": 2
}
