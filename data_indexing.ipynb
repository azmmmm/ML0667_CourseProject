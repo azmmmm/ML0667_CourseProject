{
 "cells": [
  {
   "cell_type": "code",
   "execution_count": 1,
   "metadata": {},
   "outputs": [],
   "source": [
    "from lib.utils import *"
   ]
  },
  {
   "cell_type": "code",
   "execution_count": 4,
   "metadata": {},
   "outputs": [
    {
     "name": "stdout",
     "output_type": "stream",
     "text": [
      "\n",
      "正在创建文件列表... 请耐心等待.\n",
      "\n",
      "训练集中共有 123285 张图像\n",
      "\n",
      "在测试集 BSD100 中共有 100 张图像\n",
      "\n",
      "在测试集 Set5 中共有 5 张图像\n",
      "\n",
      "在测试集 Set14 中共有 14 张图像\n",
      "\n",
      "生成完毕。训练集和测试集文件列表已保存在 ./data/ 下\n",
      "\n"
     ]
    }
   ],
   "source": [
    "create_data_lists(train_folders=['./data/COCO2014/train2014',\n",
    "                                     './data/COCO2014/val2014'],\n",
    "                      test_folders=['./data/BSD100',\n",
    "                                    './data/Set5',\n",
    "                                    './data/Set14'],\n",
    "                      min_size=100,\n",
    "                      output_folder='./data/')"
   ]
  }
 ],
 "metadata": {
  "interpreter": {
   "hash": "916dbcbb3f70747c44a77c7bcd40155683ae19c65e1c03b4aa3499c5328201f1"
  },
  "kernelspec": {
   "display_name": "Python 3.8.10 64-bit",
   "language": "python",
   "name": "python3"
  },
  "language_info": {
   "codemirror_mode": {
    "name": "ipython",
    "version": 3
   },
   "file_extension": ".py",
   "mimetype": "text/x-python",
   "name": "python",
   "nbconvert_exporter": "python",
   "pygments_lexer": "ipython3",
   "version": "3.8.10"
  },
  "orig_nbformat": 4
 },
 "nbformat": 4,
 "nbformat_minor": 2
}
